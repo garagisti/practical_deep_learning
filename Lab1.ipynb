{
  "nbformat": 4,
  "nbformat_minor": 0,
  "metadata": {
    "colab": {
      "provenance": [],
      "toc_visible": true,
      "authorship_tag": "ABX9TyO61U8AdtPLWI+LQmNYucWJ",
      "include_colab_link": true
    },
    "kernelspec": {
      "name": "python3",
      "display_name": "Python 3"
    },
    "language_info": {
      "name": "python"
    }
  },
  "cells": [
    {
      "cell_type": "markdown",
      "metadata": {
        "id": "view-in-github",
        "colab_type": "text"
      },
      "source": [
        "<a href=\"https://colab.research.google.com/github/garagisti/practical_deep_learning/blob/dev/Lab1.ipynb\" target=\"_parent\"><img src=\"https://colab.research.google.com/assets/colab-badge.svg\" alt=\"Open In Colab\"/></a>"
      ]
    },
    {
      "cell_type": "markdown",
      "source": [
        "# Lab 1 - Hello world."
      ],
      "metadata": {
        "id": "9uaIvv969m0y"
      }
    },
    {
      "cell_type": "code",
      "execution_count": 1,
      "metadata": {
        "id": "HswKbFYi9X4Y"
      },
      "outputs": [],
      "source": [
        "import requests"
      ]
    },
    {
      "cell_type": "code",
      "source": [
        "response = requests.get('http://ergast.com/api/f1/2011/5/laps/1')"
      ],
      "metadata": {
        "id": "BKvSXMeV9gv5"
      },
      "execution_count": 2,
      "outputs": []
    },
    {
      "cell_type": "code",
      "source": [
        "print(response.text)"
      ],
      "metadata": {
        "colab": {
          "base_uri": "https://localhost:8080/"
        },
        "id": "MTKtB8W9RmEo",
        "outputId": "5b4a527d-cdf3-4b1b-e087-67ca28392fc8"
      },
      "execution_count": 3,
      "outputs": [
        {
          "output_type": "stream",
          "name": "stdout",
          "text": [
            "<?xml version=\"1.0\" encoding=\"utf-8\"?>\n",
            "<?xml-stylesheet type=\"text/xsl\" href=\"/schemas/mrd-1.5.xsl\"?>\n",
            "<MRData xmlns=\"http://ergast.com/mrd/1.5\" series=\"f1\" url=\"http://ergast.com/api/f1/2011/5/laps/1\" limit=\"30\" offset=\"0\" total=\"24\">\n",
            "\t<RaceTable season=\"2011\" round=\"5\" lap=\"1\">\n",
            "\t\t<Race season=\"2011\" round=\"5\" url=\"http://en.wikipedia.org/wiki/2011_Spanish_Grand_Prix\">\n",
            "\t\t\t<RaceName>Spanish Grand Prix</RaceName>\n",
            "\t\t\t<Circuit circuitId=\"catalunya\" url=\"http://en.wikipedia.org/wiki/Circuit_de_Barcelona-Catalunya\">\n",
            "\t\t\t\t<CircuitName>Circuit de Barcelona-Catalunya</CircuitName>\n",
            "\t\t\t\t<Location lat=\"41.57\" long=\"2.26111\">\n",
            "\t\t\t\t\t<Locality>Montmeló</Locality>\n",
            "\t\t\t\t\t<Country>Spain</Country>\n",
            "\t\t\t\t</Location>\n",
            "\t\t\t</Circuit>\n",
            "\t\t\t<Date>2011-05-22</Date>\n",
            "\t\t\t<Time>12:00:00Z</Time>\n",
            "\t\t\t<LapsList>\n",
            "\t\t\t\t<Lap number=\"1\">\n",
            "\t\t\t\t\t<Timing driverId=\"alonso\" lap=\"1\" position=\"1\" time=\"1:34.494\"/>\n",
            "\t\t\t\t\t<Timing driverId=\"vettel\" lap=\"1\" position=\"2\" time=\"1:35.274\"/>\n",
            "\t\t\t\t\t<Timing driverId=\"webber\" lap=\"1\" position=\"3\" time=\"1:36.329\"/>\n",
            "\t\t\t\t\t<Timing driverId=\"hamilton\" lap=\"1\" position=\"4\" time=\"1:36.991\"/>\n",
            "\t\t\t\t\t<Timing driverId=\"petrov\" lap=\"1\" position=\"5\" time=\"1:38.084\"/>\n",
            "\t\t\t\t\t<Timing driverId=\"michael_schumacher\" lap=\"1\" position=\"6\" time=\"1:38.633\"/>\n",
            "\t\t\t\t\t<Timing driverId=\"rosberg\" lap=\"1\" position=\"7\" time=\"1:39.139\"/>\n",
            "\t\t\t\t\t<Timing driverId=\"massa\" lap=\"1\" position=\"8\" time=\"1:39.979\"/>\n",
            "\t\t\t\t\t<Timing driverId=\"buemi\" lap=\"1\" position=\"9\" time=\"1:40.611\"/>\n",
            "\t\t\t\t\t<Timing driverId=\"button\" lap=\"1\" position=\"10\" time=\"1:40.998\"/>\n",
            "\t\t\t\t\t<Timing driverId=\"perez\" lap=\"1\" position=\"11\" time=\"1:41.433\"/>\n",
            "\t\t\t\t\t<Timing driverId=\"alguersuari\" lap=\"1\" position=\"12\" time=\"1:41.876\"/>\n",
            "\t\t\t\t\t<Timing driverId=\"maldonado\" lap=\"1\" position=\"13\" time=\"1:42.255\"/>\n",
            "\t\t\t\t\t<Timing driverId=\"resta\" lap=\"1\" position=\"14\" time=\"1:42.808\"/>\n",
            "\t\t\t\t\t<Timing driverId=\"trulli\" lap=\"1\" position=\"15\" time=\"1:43.553\"/>\n",
            "\t\t\t\t\t<Timing driverId=\"kovalainen\" lap=\"1\" position=\"16\" time=\"1:44.276\"/>\n",
            "\t\t\t\t\t<Timing driverId=\"heidfeld\" lap=\"1\" position=\"17\" time=\"1:45.164\"/>\n",
            "\t\t\t\t\t<Timing driverId=\"sutil\" lap=\"1\" position=\"18\" time=\"1:46.107\"/>\n",
            "\t\t\t\t\t<Timing driverId=\"liuzzi\" lap=\"1\" position=\"19\" time=\"1:46.737\"/>\n",
            "\t\t\t\t\t<Timing driverId=\"barrichello\" lap=\"1\" position=\"20\" time=\"1:47.077\"/>\n",
            "\t\t\t\t\t<Timing driverId=\"glock\" lap=\"1\" position=\"21\" time=\"1:47.556\"/>\n",
            "\t\t\t\t\t<Timing driverId=\"karthikeyan\" lap=\"1\" position=\"22\" time=\"1:48.183\"/>\n",
            "\t\t\t\t\t<Timing driverId=\"ambrosio\" lap=\"1\" position=\"23\" time=\"1:48.573\"/>\n",
            "\t\t\t\t\t<Timing driverId=\"kobayashi\" lap=\"1\" position=\"24\" time=\"1:57.590\"/>\n",
            "\t\t\t\t</Lap>\n",
            "\t\t\t</LapsList>\n",
            "\t\t</Race>\n",
            "\t</RaceTable>\n",
            "</MRData>\n",
            "\n"
          ]
        }
      ]
    }
  ]
}